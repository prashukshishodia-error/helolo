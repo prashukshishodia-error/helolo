{
 "cells": [
  {
   "cell_type": "markdown",
   "id": "75fe2b9a",
   "metadata": {},
   "source": [
    "# INSURANCE CLAIMS CASE STUDY"
   ]
  },
  {
   "cell_type": "markdown",
   "id": "604d684f",
   "metadata": {},
   "source": [
    "### Importing the libraries"
   ]
  },
  {
   "cell_type": "code",
   "execution_count": 44,
   "id": "351ded54",
   "metadata": {},
   "outputs": [],
   "source": [
    "import pandas as pd\n",
    "import numpy as np\n",
    "import seaborn as sns\n",
    "import matplotlib.pyplot as plt\n",
    "# for hypothesis testing\n",
    "import scipy.stats as stats\n",
    "%matplotlib inline"
   ]
  },
  {
   "cell_type": "markdown",
   "id": "0cd2968b",
   "metadata": {},
   "source": [
    "#### 1. Import claims_data.csv and cust_data.csv which is provided to you and combine the two datasets appropriately to create a 360-degree view of the data. Use the same for the subsequent questions"
   ]
  },
  {
   "cell_type": "code",
   "execution_count": 45,
   "id": "53b3180b",
   "metadata": {},
   "outputs": [
    {
     "data": {
      "text/html": [
       "<div>\n",
       "<style scoped>\n",
       "    .dataframe tbody tr th:only-of-type {\n",
       "        vertical-align: middle;\n",
       "    }\n",
       "\n",
       "    .dataframe tbody tr th {\n",
       "        vertical-align: top;\n",
       "    }\n",
       "\n",
       "    .dataframe thead th {\n",
       "        text-align: right;\n",
       "    }\n",
       "</style>\n",
       "<table border=\"1\" class=\"dataframe\">\n",
       "  <thead>\n",
       "    <tr style=\"text-align: right;\">\n",
       "      <th></th>\n",
       "      <th>claim_id</th>\n",
       "      <th>customer_id</th>\n",
       "      <th>incident_cause</th>\n",
       "      <th>claim_date</th>\n",
       "      <th>claim_area</th>\n",
       "      <th>police_report</th>\n",
       "      <th>claim_type</th>\n",
       "      <th>claim_amount</th>\n",
       "      <th>total_policy_claims</th>\n",
       "      <th>fraudulent</th>\n",
       "    </tr>\n",
       "  </thead>\n",
       "  <tbody>\n",
       "    <tr>\n",
       "      <th>0</th>\n",
       "      <td>54004764</td>\n",
       "      <td>21868593</td>\n",
       "      <td>Driver error</td>\n",
       "      <td>11/27/2017</td>\n",
       "      <td>Auto</td>\n",
       "      <td>No</td>\n",
       "      <td>Material only</td>\n",
       "      <td>$2980</td>\n",
       "      <td>1.0</td>\n",
       "      <td>No</td>\n",
       "    </tr>\n",
       "    <tr>\n",
       "      <th>1</th>\n",
       "      <td>33985796</td>\n",
       "      <td>75740424</td>\n",
       "      <td>Crime</td>\n",
       "      <td>10/03/2018</td>\n",
       "      <td>Home</td>\n",
       "      <td>Unknown</td>\n",
       "      <td>Material only</td>\n",
       "      <td>$2980</td>\n",
       "      <td>3.0</td>\n",
       "      <td>No</td>\n",
       "    </tr>\n",
       "    <tr>\n",
       "      <th>2</th>\n",
       "      <td>53522022</td>\n",
       "      <td>30308357</td>\n",
       "      <td>Other driver error</td>\n",
       "      <td>02/02/2018</td>\n",
       "      <td>Auto</td>\n",
       "      <td>No</td>\n",
       "      <td>Material only</td>\n",
       "      <td>$3369.5</td>\n",
       "      <td>1.0</td>\n",
       "      <td>Yes</td>\n",
       "    </tr>\n",
       "    <tr>\n",
       "      <th>3</th>\n",
       "      <td>13015401</td>\n",
       "      <td>47830476</td>\n",
       "      <td>Natural causes</td>\n",
       "      <td>06/17/2018</td>\n",
       "      <td>Auto</td>\n",
       "      <td>No</td>\n",
       "      <td>Material only</td>\n",
       "      <td>$1680</td>\n",
       "      <td>1.0</td>\n",
       "      <td>No</td>\n",
       "    </tr>\n",
       "    <tr>\n",
       "      <th>4</th>\n",
       "      <td>22890252</td>\n",
       "      <td>19269962</td>\n",
       "      <td>Crime</td>\n",
       "      <td>01/13/2018</td>\n",
       "      <td>Auto</td>\n",
       "      <td>No</td>\n",
       "      <td>Material only</td>\n",
       "      <td>$2680</td>\n",
       "      <td>1.0</td>\n",
       "      <td>No</td>\n",
       "    </tr>\n",
       "    <tr>\n",
       "      <th>...</th>\n",
       "      <td>...</td>\n",
       "      <td>...</td>\n",
       "      <td>...</td>\n",
       "      <td>...</td>\n",
       "      <td>...</td>\n",
       "      <td>...</td>\n",
       "      <td>...</td>\n",
       "      <td>...</td>\n",
       "      <td>...</td>\n",
       "      <td>...</td>\n",
       "    </tr>\n",
       "    <tr>\n",
       "      <th>1095</th>\n",
       "      <td>97727122</td>\n",
       "      <td>35951012</td>\n",
       "      <td>Other driver error</td>\n",
       "      <td>06/11/2017</td>\n",
       "      <td>Auto</td>\n",
       "      <td>No</td>\n",
       "      <td>Material only</td>\n",
       "      <td>$3059</td>\n",
       "      <td>4.0</td>\n",
       "      <td>Yes</td>\n",
       "    </tr>\n",
       "    <tr>\n",
       "      <th>1096</th>\n",
       "      <td>10247193</td>\n",
       "      <td>14818669</td>\n",
       "      <td>Natural causes</td>\n",
       "      <td>03/14/2018</td>\n",
       "      <td>Auto</td>\n",
       "      <td>No</td>\n",
       "      <td>Material only</td>\n",
       "      <td>$1520</td>\n",
       "      <td>2.0</td>\n",
       "      <td>No</td>\n",
       "    </tr>\n",
       "    <tr>\n",
       "      <th>1097</th>\n",
       "      <td>79807493</td>\n",
       "      <td>85322831</td>\n",
       "      <td>Other driver error</td>\n",
       "      <td>02/09/2018</td>\n",
       "      <td>Auto</td>\n",
       "      <td>No</td>\n",
       "      <td>Material and injury</td>\n",
       "      <td>$23575</td>\n",
       "      <td>2.0</td>\n",
       "      <td>Yes</td>\n",
       "    </tr>\n",
       "    <tr>\n",
       "      <th>1098</th>\n",
       "      <td>69299345</td>\n",
       "      <td>73449366</td>\n",
       "      <td>Other causes</td>\n",
       "      <td>03/21/2018</td>\n",
       "      <td>Auto</td>\n",
       "      <td>Unknown</td>\n",
       "      <td>Material and injury</td>\n",
       "      <td>$25120</td>\n",
       "      <td>1.0</td>\n",
       "      <td>No</td>\n",
       "    </tr>\n",
       "    <tr>\n",
       "      <th>1099</th>\n",
       "      <td>58809728</td>\n",
       "      <td>43020876</td>\n",
       "      <td>Other driver error</td>\n",
       "      <td>06/04/2017</td>\n",
       "      <td>Auto</td>\n",
       "      <td>Yes</td>\n",
       "      <td>Material and injury</td>\n",
       "      <td>$36685</td>\n",
       "      <td>3.0</td>\n",
       "      <td>Yes</td>\n",
       "    </tr>\n",
       "  </tbody>\n",
       "</table>\n",
       "<p>1100 rows × 10 columns</p>\n",
       "</div>"
      ],
      "text/plain": [
       "      claim_id  customer_id      incident_cause  claim_date claim_area  \\\n",
       "0     54004764     21868593        Driver error  11/27/2017       Auto   \n",
       "1     33985796     75740424               Crime  10/03/2018       Home   \n",
       "2     53522022     30308357  Other driver error  02/02/2018       Auto   \n",
       "3     13015401     47830476      Natural causes  06/17/2018       Auto   \n",
       "4     22890252     19269962               Crime  01/13/2018       Auto   \n",
       "...        ...          ...                 ...         ...        ...   \n",
       "1095  97727122     35951012  Other driver error  06/11/2017       Auto   \n",
       "1096  10247193     14818669      Natural causes  03/14/2018       Auto   \n",
       "1097  79807493     85322831  Other driver error  02/09/2018       Auto   \n",
       "1098  69299345     73449366        Other causes  03/21/2018       Auto   \n",
       "1099  58809728     43020876  Other driver error  06/04/2017       Auto   \n",
       "\n",
       "     police_report           claim_type claim_amount  total_policy_claims  \\\n",
       "0               No        Material only        $2980                  1.0   \n",
       "1          Unknown        Material only        $2980                  3.0   \n",
       "2               No        Material only      $3369.5                  1.0   \n",
       "3               No        Material only        $1680                  1.0   \n",
       "4               No        Material only        $2680                  1.0   \n",
       "...            ...                  ...          ...                  ...   \n",
       "1095            No        Material only        $3059                  4.0   \n",
       "1096            No        Material only        $1520                  2.0   \n",
       "1097            No  Material and injury       $23575                  2.0   \n",
       "1098       Unknown  Material and injury       $25120                  1.0   \n",
       "1099           Yes  Material and injury       $36685                  3.0   \n",
       "\n",
       "     fraudulent  \n",
       "0            No  \n",
       "1            No  \n",
       "2           Yes  \n",
       "3            No  \n",
       "4            No  \n",
       "...         ...  \n",
       "1095        Yes  \n",
       "1096         No  \n",
       "1097        Yes  \n",
       "1098         No  \n",
       "1099        Yes  \n",
       "\n",
       "[1100 rows x 10 columns]"
      ]
     },
     "execution_count": 45,
     "metadata": {},
     "output_type": "execute_result"
    }
   ],
   "source": [
    "claims_data = pd.read_csv(\"claims.csv\")\n",
    "claims_data"
   ]
  },
  {
   "cell_type": "code",
   "execution_count": 46,
   "id": "342e632a",
   "metadata": {},
   "outputs": [
    {
     "data": {
      "text/html": [
       "<div>\n",
       "<style scoped>\n",
       "    .dataframe tbody tr th:only-of-type {\n",
       "        vertical-align: middle;\n",
       "    }\n",
       "\n",
       "    .dataframe tbody tr th {\n",
       "        vertical-align: top;\n",
       "    }\n",
       "\n",
       "    .dataframe thead th {\n",
       "        text-align: right;\n",
       "    }\n",
       "</style>\n",
       "<table border=\"1\" class=\"dataframe\">\n",
       "  <thead>\n",
       "    <tr style=\"text-align: right;\">\n",
       "      <th></th>\n",
       "      <th>CUST_ID</th>\n",
       "      <th>gender</th>\n",
       "      <th>DateOfBirth</th>\n",
       "      <th>State</th>\n",
       "      <th>Contact</th>\n",
       "      <th>Segment</th>\n",
       "    </tr>\n",
       "  </thead>\n",
       "  <tbody>\n",
       "    <tr>\n",
       "      <th>0</th>\n",
       "      <td>21868593</td>\n",
       "      <td>Female</td>\n",
       "      <td>12-Jan-79</td>\n",
       "      <td>VT</td>\n",
       "      <td>789-916-8172</td>\n",
       "      <td>Platinum</td>\n",
       "    </tr>\n",
       "    <tr>\n",
       "      <th>1</th>\n",
       "      <td>75740424</td>\n",
       "      <td>Female</td>\n",
       "      <td>13-Jan-70</td>\n",
       "      <td>ME</td>\n",
       "      <td>265-543-1264</td>\n",
       "      <td>Silver</td>\n",
       "    </tr>\n",
       "    <tr>\n",
       "      <th>2</th>\n",
       "      <td>30308357</td>\n",
       "      <td>Female</td>\n",
       "      <td>11-Mar-84</td>\n",
       "      <td>TN</td>\n",
       "      <td>798-631-4758</td>\n",
       "      <td>Silver</td>\n",
       "    </tr>\n",
       "    <tr>\n",
       "      <th>3</th>\n",
       "      <td>47830476</td>\n",
       "      <td>Female</td>\n",
       "      <td>01-May-86</td>\n",
       "      <td>MA</td>\n",
       "      <td>413-187-7945</td>\n",
       "      <td>Silver</td>\n",
       "    </tr>\n",
       "    <tr>\n",
       "      <th>4</th>\n",
       "      <td>19269962</td>\n",
       "      <td>Male</td>\n",
       "      <td>13-May-77</td>\n",
       "      <td>NV</td>\n",
       "      <td>956-871-8691</td>\n",
       "      <td>Gold</td>\n",
       "    </tr>\n",
       "    <tr>\n",
       "      <th>...</th>\n",
       "      <td>...</td>\n",
       "      <td>...</td>\n",
       "      <td>...</td>\n",
       "      <td>...</td>\n",
       "      <td>...</td>\n",
       "      <td>...</td>\n",
       "    </tr>\n",
       "    <tr>\n",
       "      <th>1080</th>\n",
       "      <td>79539873</td>\n",
       "      <td>Female</td>\n",
       "      <td>15-Mar-81</td>\n",
       "      <td>ND</td>\n",
       "      <td>459-425-4319</td>\n",
       "      <td>Platinum</td>\n",
       "    </tr>\n",
       "    <tr>\n",
       "      <th>1081</th>\n",
       "      <td>42364152</td>\n",
       "      <td>Female</td>\n",
       "      <td>07-Jul-96</td>\n",
       "      <td>ID</td>\n",
       "      <td>529-462-1635</td>\n",
       "      <td>Silver</td>\n",
       "    </tr>\n",
       "    <tr>\n",
       "      <th>1082</th>\n",
       "      <td>19888166</td>\n",
       "      <td>Male</td>\n",
       "      <td>11-Apr-90</td>\n",
       "      <td>WI</td>\n",
       "      <td>712-651-9613</td>\n",
       "      <td>Gold</td>\n",
       "    </tr>\n",
       "    <tr>\n",
       "      <th>1083</th>\n",
       "      <td>11256802</td>\n",
       "      <td>Female</td>\n",
       "      <td>22-Oct-64</td>\n",
       "      <td>LA</td>\n",
       "      <td>469-345-5617</td>\n",
       "      <td>Silver</td>\n",
       "    </tr>\n",
       "    <tr>\n",
       "      <th>1084</th>\n",
       "      <td>61575264</td>\n",
       "      <td>Male</td>\n",
       "      <td>12-Jul-95</td>\n",
       "      <td>WY</td>\n",
       "      <td>182-385-1392</td>\n",
       "      <td>Gold</td>\n",
       "    </tr>\n",
       "  </tbody>\n",
       "</table>\n",
       "<p>1085 rows × 6 columns</p>\n",
       "</div>"
      ],
      "text/plain": [
       "       CUST_ID  gender DateOfBirth State       Contact   Segment\n",
       "0     21868593  Female   12-Jan-79    VT  789-916-8172  Platinum\n",
       "1     75740424  Female   13-Jan-70    ME  265-543-1264    Silver\n",
       "2     30308357  Female   11-Mar-84    TN  798-631-4758    Silver\n",
       "3     47830476  Female   01-May-86    MA  413-187-7945    Silver\n",
       "4     19269962    Male   13-May-77    NV  956-871-8691      Gold\n",
       "...        ...     ...         ...   ...           ...       ...\n",
       "1080  79539873  Female   15-Mar-81    ND  459-425-4319  Platinum\n",
       "1081  42364152  Female   07-Jul-96    ID  529-462-1635    Silver\n",
       "1082  19888166    Male   11-Apr-90    WI  712-651-9613      Gold\n",
       "1083  11256802  Female   22-Oct-64    LA  469-345-5617    Silver\n",
       "1084  61575264    Male   12-Jul-95    WY  182-385-1392      Gold\n",
       "\n",
       "[1085 rows x 6 columns]"
      ]
     },
     "execution_count": 46,
     "metadata": {},
     "output_type": "execute_result"
    }
   ],
   "source": [
    "cust_data = pd.read_csv(\"cust_demographics.csv\")\n",
    "cust_data"
   ]
  },
  {
   "cell_type": "code",
   "execution_count": 47,
   "id": "d4b91f36",
   "metadata": {},
   "outputs": [
    {
     "data": {
      "text/html": [
       "<div>\n",
       "<style scoped>\n",
       "    .dataframe tbody tr th:only-of-type {\n",
       "        vertical-align: middle;\n",
       "    }\n",
       "\n",
       "    .dataframe tbody tr th {\n",
       "        vertical-align: top;\n",
       "    }\n",
       "\n",
       "    .dataframe thead th {\n",
       "        text-align: right;\n",
       "    }\n",
       "</style>\n",
       "<table border=\"1\" class=\"dataframe\">\n",
       "  <thead>\n",
       "    <tr style=\"text-align: right;\">\n",
       "      <th></th>\n",
       "      <th>CUST_ID</th>\n",
       "      <th>gender</th>\n",
       "      <th>DateOfBirth</th>\n",
       "      <th>State</th>\n",
       "      <th>Contact</th>\n",
       "      <th>Segment</th>\n",
       "      <th>claim_id</th>\n",
       "      <th>customer_id</th>\n",
       "      <th>incident_cause</th>\n",
       "      <th>claim_date</th>\n",
       "      <th>claim_area</th>\n",
       "      <th>police_report</th>\n",
       "      <th>claim_type</th>\n",
       "      <th>claim_amount</th>\n",
       "      <th>total_policy_claims</th>\n",
       "      <th>fraudulent</th>\n",
       "      <th>_merge</th>\n",
       "    </tr>\n",
       "  </thead>\n",
       "  <tbody>\n",
       "    <tr>\n",
       "      <th>0</th>\n",
       "      <td>21868593</td>\n",
       "      <td>Female</td>\n",
       "      <td>12-Jan-79</td>\n",
       "      <td>VT</td>\n",
       "      <td>789-916-8172</td>\n",
       "      <td>Platinum</td>\n",
       "      <td>54004764</td>\n",
       "      <td>21868593</td>\n",
       "      <td>Driver error</td>\n",
       "      <td>11/27/2017</td>\n",
       "      <td>Auto</td>\n",
       "      <td>No</td>\n",
       "      <td>Material only</td>\n",
       "      <td>$2980</td>\n",
       "      <td>1.0</td>\n",
       "      <td>No</td>\n",
       "      <td>both</td>\n",
       "    </tr>\n",
       "    <tr>\n",
       "      <th>1</th>\n",
       "      <td>75740424</td>\n",
       "      <td>Female</td>\n",
       "      <td>13-Jan-70</td>\n",
       "      <td>ME</td>\n",
       "      <td>265-543-1264</td>\n",
       "      <td>Silver</td>\n",
       "      <td>33985796</td>\n",
       "      <td>75740424</td>\n",
       "      <td>Crime</td>\n",
       "      <td>10/03/2018</td>\n",
       "      <td>Home</td>\n",
       "      <td>Unknown</td>\n",
       "      <td>Material only</td>\n",
       "      <td>$2980</td>\n",
       "      <td>3.0</td>\n",
       "      <td>No</td>\n",
       "      <td>both</td>\n",
       "    </tr>\n",
       "    <tr>\n",
       "      <th>2</th>\n",
       "      <td>30308357</td>\n",
       "      <td>Female</td>\n",
       "      <td>11-Mar-84</td>\n",
       "      <td>TN</td>\n",
       "      <td>798-631-4758</td>\n",
       "      <td>Silver</td>\n",
       "      <td>53522022</td>\n",
       "      <td>30308357</td>\n",
       "      <td>Other driver error</td>\n",
       "      <td>02/02/2018</td>\n",
       "      <td>Auto</td>\n",
       "      <td>No</td>\n",
       "      <td>Material only</td>\n",
       "      <td>$3369.5</td>\n",
       "      <td>1.0</td>\n",
       "      <td>Yes</td>\n",
       "      <td>both</td>\n",
       "    </tr>\n",
       "    <tr>\n",
       "      <th>3</th>\n",
       "      <td>30308357</td>\n",
       "      <td>Female</td>\n",
       "      <td>11-Mar-84</td>\n",
       "      <td>TN</td>\n",
       "      <td>798-631-4758</td>\n",
       "      <td>Silver</td>\n",
       "      <td>63017412</td>\n",
       "      <td>30308357</td>\n",
       "      <td>Driver error</td>\n",
       "      <td>04/04/2018</td>\n",
       "      <td>Auto</td>\n",
       "      <td>No</td>\n",
       "      <td>Material only</td>\n",
       "      <td>$1950</td>\n",
       "      <td>6.0</td>\n",
       "      <td>No</td>\n",
       "      <td>both</td>\n",
       "    </tr>\n",
       "    <tr>\n",
       "      <th>4</th>\n",
       "      <td>47830476</td>\n",
       "      <td>Female</td>\n",
       "      <td>01-May-86</td>\n",
       "      <td>MA</td>\n",
       "      <td>413-187-7945</td>\n",
       "      <td>Silver</td>\n",
       "      <td>13015401</td>\n",
       "      <td>47830476</td>\n",
       "      <td>Natural causes</td>\n",
       "      <td>06/17/2018</td>\n",
       "      <td>Auto</td>\n",
       "      <td>No</td>\n",
       "      <td>Material only</td>\n",
       "      <td>$1680</td>\n",
       "      <td>1.0</td>\n",
       "      <td>No</td>\n",
       "      <td>both</td>\n",
       "    </tr>\n",
       "    <tr>\n",
       "      <th>...</th>\n",
       "      <td>...</td>\n",
       "      <td>...</td>\n",
       "      <td>...</td>\n",
       "      <td>...</td>\n",
       "      <td>...</td>\n",
       "      <td>...</td>\n",
       "      <td>...</td>\n",
       "      <td>...</td>\n",
       "      <td>...</td>\n",
       "      <td>...</td>\n",
       "      <td>...</td>\n",
       "      <td>...</td>\n",
       "      <td>...</td>\n",
       "      <td>...</td>\n",
       "      <td>...</td>\n",
       "      <td>...</td>\n",
       "      <td>...</td>\n",
       "    </tr>\n",
       "    <tr>\n",
       "      <th>1080</th>\n",
       "      <td>79539873</td>\n",
       "      <td>Female</td>\n",
       "      <td>15-Mar-81</td>\n",
       "      <td>ND</td>\n",
       "      <td>459-425-4319</td>\n",
       "      <td>Platinum</td>\n",
       "      <td>62020796</td>\n",
       "      <td>79539873</td>\n",
       "      <td>Other driver error</td>\n",
       "      <td>09/06/2018</td>\n",
       "      <td>Auto</td>\n",
       "      <td>Yes</td>\n",
       "      <td>Material only</td>\n",
       "      <td>$1770</td>\n",
       "      <td>1.0</td>\n",
       "      <td>No</td>\n",
       "      <td>both</td>\n",
       "    </tr>\n",
       "    <tr>\n",
       "      <th>1081</th>\n",
       "      <td>42364152</td>\n",
       "      <td>Female</td>\n",
       "      <td>07-Jul-96</td>\n",
       "      <td>ID</td>\n",
       "      <td>529-462-1635</td>\n",
       "      <td>Silver</td>\n",
       "      <td>63269067</td>\n",
       "      <td>42364152</td>\n",
       "      <td>Other causes</td>\n",
       "      <td>05/09/2017</td>\n",
       "      <td>Home</td>\n",
       "      <td>No</td>\n",
       "      <td>Material only</td>\n",
       "      <td>$2800</td>\n",
       "      <td>1.0</td>\n",
       "      <td>No</td>\n",
       "      <td>both</td>\n",
       "    </tr>\n",
       "    <tr>\n",
       "      <th>1082</th>\n",
       "      <td>19888166</td>\n",
       "      <td>Male</td>\n",
       "      <td>11-Apr-90</td>\n",
       "      <td>WI</td>\n",
       "      <td>712-651-9613</td>\n",
       "      <td>Gold</td>\n",
       "      <td>22690595</td>\n",
       "      <td>19888166</td>\n",
       "      <td>Other driver error</td>\n",
       "      <td>05/15/2017</td>\n",
       "      <td>Auto</td>\n",
       "      <td>Yes</td>\n",
       "      <td>Injury only</td>\n",
       "      <td>$33080</td>\n",
       "      <td>2.0</td>\n",
       "      <td>No</td>\n",
       "      <td>both</td>\n",
       "    </tr>\n",
       "    <tr>\n",
       "      <th>1083</th>\n",
       "      <td>11256802</td>\n",
       "      <td>Female</td>\n",
       "      <td>22-Oct-64</td>\n",
       "      <td>LA</td>\n",
       "      <td>469-345-5617</td>\n",
       "      <td>Silver</td>\n",
       "      <td>12376894</td>\n",
       "      <td>11256802</td>\n",
       "      <td>Other driver error</td>\n",
       "      <td>04/18/2017</td>\n",
       "      <td>Auto</td>\n",
       "      <td>No</td>\n",
       "      <td>Material only</td>\n",
       "      <td>$2840</td>\n",
       "      <td>4.0</td>\n",
       "      <td>No</td>\n",
       "      <td>both</td>\n",
       "    </tr>\n",
       "    <tr>\n",
       "      <th>1084</th>\n",
       "      <td>61575264</td>\n",
       "      <td>Male</td>\n",
       "      <td>12-Jul-95</td>\n",
       "      <td>WY</td>\n",
       "      <td>182-385-1392</td>\n",
       "      <td>Gold</td>\n",
       "      <td>63226031</td>\n",
       "      <td>61575264</td>\n",
       "      <td>Natural causes</td>\n",
       "      <td>03/16/2017</td>\n",
       "      <td>Auto</td>\n",
       "      <td>No</td>\n",
       "      <td>Material only</td>\n",
       "      <td>$1490</td>\n",
       "      <td>1.0</td>\n",
       "      <td>No</td>\n",
       "      <td>both</td>\n",
       "    </tr>\n",
       "  </tbody>\n",
       "</table>\n",
       "<p>1085 rows × 17 columns</p>\n",
       "</div>"
      ],
      "text/plain": [
       "       CUST_ID  gender DateOfBirth State       Contact   Segment  claim_id  \\\n",
       "0     21868593  Female   12-Jan-79    VT  789-916-8172  Platinum  54004764   \n",
       "1     75740424  Female   13-Jan-70    ME  265-543-1264    Silver  33985796   \n",
       "2     30308357  Female   11-Mar-84    TN  798-631-4758    Silver  53522022   \n",
       "3     30308357  Female   11-Mar-84    TN  798-631-4758    Silver  63017412   \n",
       "4     47830476  Female   01-May-86    MA  413-187-7945    Silver  13015401   \n",
       "...        ...     ...         ...   ...           ...       ...       ...   \n",
       "1080  79539873  Female   15-Mar-81    ND  459-425-4319  Platinum  62020796   \n",
       "1081  42364152  Female   07-Jul-96    ID  529-462-1635    Silver  63269067   \n",
       "1082  19888166    Male   11-Apr-90    WI  712-651-9613      Gold  22690595   \n",
       "1083  11256802  Female   22-Oct-64    LA  469-345-5617    Silver  12376894   \n",
       "1084  61575264    Male   12-Jul-95    WY  182-385-1392      Gold  63226031   \n",
       "\n",
       "      customer_id      incident_cause  claim_date claim_area police_report  \\\n",
       "0        21868593        Driver error  11/27/2017       Auto            No   \n",
       "1        75740424               Crime  10/03/2018       Home       Unknown   \n",
       "2        30308357  Other driver error  02/02/2018       Auto            No   \n",
       "3        30308357        Driver error  04/04/2018       Auto            No   \n",
       "4        47830476      Natural causes  06/17/2018       Auto            No   \n",
       "...           ...                 ...         ...        ...           ...   \n",
       "1080     79539873  Other driver error  09/06/2018       Auto           Yes   \n",
       "1081     42364152        Other causes  05/09/2017       Home            No   \n",
       "1082     19888166  Other driver error  05/15/2017       Auto           Yes   \n",
       "1083     11256802  Other driver error  04/18/2017       Auto            No   \n",
       "1084     61575264      Natural causes  03/16/2017       Auto            No   \n",
       "\n",
       "         claim_type claim_amount  total_policy_claims fraudulent _merge  \n",
       "0     Material only        $2980                  1.0         No   both  \n",
       "1     Material only        $2980                  3.0         No   both  \n",
       "2     Material only      $3369.5                  1.0        Yes   both  \n",
       "3     Material only        $1950                  6.0         No   both  \n",
       "4     Material only        $1680                  1.0         No   both  \n",
       "...             ...          ...                  ...        ...    ...  \n",
       "1080  Material only        $1770                  1.0         No   both  \n",
       "1081  Material only        $2800                  1.0         No   both  \n",
       "1082    Injury only       $33080                  2.0         No   both  \n",
       "1083  Material only        $2840                  4.0         No   both  \n",
       "1084  Material only        $1490                  1.0         No   both  \n",
       "\n",
       "[1085 rows x 17 columns]"
      ]
     },
     "execution_count": 47,
     "metadata": {},
     "output_type": "execute_result"
    }
   ],
   "source": [
    "# mergering\n",
    "data = pd.merge(left = cust_data, right=claims_data,left_on='CUST_ID' ,right_on='customer_id',how = 'inner', indicator=True)\n",
    "data"
   ]
  },
  {
   "cell_type": "markdown",
   "id": "305e1a60",
   "metadata": {},
   "source": [
    "#### 2. Perform a data audit for the datatypes and find out if there are any mismatch within the current datatypes of the columns and their business significance."
   ]
  },
  {
   "cell_type": "code",
   "execution_count": 48,
   "id": "45ae2b90",
   "metadata": {},
   "outputs": [
    {
     "name": "stdout",
     "output_type": "stream",
     "text": [
      "<class 'pandas.core.frame.DataFrame'>\n",
      "Int64Index: 1085 entries, 0 to 1084\n",
      "Data columns (total 17 columns):\n",
      " #   Column               Non-Null Count  Dtype   \n",
      "---  ------               --------------  -----   \n",
      " 0   CUST_ID              1085 non-null   int64   \n",
      " 1   gender               1085 non-null   object  \n",
      " 2   DateOfBirth          1085 non-null   object  \n",
      " 3   State                1085 non-null   object  \n",
      " 4   Contact              1085 non-null   object  \n",
      " 5   Segment              1085 non-null   object  \n",
      " 6   claim_id             1085 non-null   int64   \n",
      " 7   customer_id          1085 non-null   int64   \n",
      " 8   incident_cause       1085 non-null   object  \n",
      " 9   claim_date           1085 non-null   object  \n",
      " 10  claim_area           1085 non-null   object  \n",
      " 11  police_report        1085 non-null   object  \n",
      " 12  claim_type           1085 non-null   object  \n",
      " 13  claim_amount         1020 non-null   object  \n",
      " 14  total_policy_claims  1075 non-null   float64 \n",
      " 15  fraudulent           1085 non-null   object  \n",
      " 16  _merge               1085 non-null   category\n",
      "dtypes: category(1), float64(1), int64(3), object(12)\n",
      "memory usage: 145.3+ KB\n"
     ]
    }
   ],
   "source": [
    "data.info()"
   ]
  },
  {
   "cell_type": "code",
   "execution_count": 49,
   "id": "b4c38723",
   "metadata": {},
   "outputs": [],
   "source": [
    "data.claim_date=pd.to_datetime(data.claim_date)\n",
    "data.DateOfBirth=pd.to_datetime(data.DateOfBirth)"
   ]
  },
  {
   "cell_type": "code",
   "execution_count": 50,
   "id": "c1a07b1e",
   "metadata": {},
   "outputs": [],
   "source": [
    "# CUST_ID and customer_id are both same. therefore dropping one column i.e.CUST_ID\n",
    "data=data.drop(columns='CUST_ID')"
   ]
  },
  {
   "cell_type": "code",
   "execution_count": 51,
   "id": "cad1fe1d",
   "metadata": {},
   "outputs": [
    {
     "name": "stdout",
     "output_type": "stream",
     "text": [
      "<class 'pandas.core.frame.DataFrame'>\n",
      "Int64Index: 1085 entries, 0 to 1084\n",
      "Data columns (total 16 columns):\n",
      " #   Column               Non-Null Count  Dtype         \n",
      "---  ------               --------------  -----         \n",
      " 0   gender               1085 non-null   object        \n",
      " 1   DateOfBirth          1085 non-null   datetime64[ns]\n",
      " 2   State                1085 non-null   object        \n",
      " 3   Contact              1085 non-null   object        \n",
      " 4   Segment              1085 non-null   object        \n",
      " 5   claim_id             1085 non-null   int64         \n",
      " 6   customer_id          1085 non-null   int64         \n",
      " 7   incident_cause       1085 non-null   object        \n",
      " 8   claim_date           1085 non-null   datetime64[ns]\n",
      " 9   claim_area           1085 non-null   object        \n",
      " 10  police_report        1085 non-null   object        \n",
      " 11  claim_type           1085 non-null   object        \n",
      " 12  claim_amount         1020 non-null   object        \n",
      " 13  total_policy_claims  1075 non-null   float64       \n",
      " 14  fraudulent           1085 non-null   object        \n",
      " 15  _merge               1085 non-null   category      \n",
      "dtypes: category(1), datetime64[ns](2), float64(1), int64(2), object(10)\n",
      "memory usage: 136.8+ KB\n"
     ]
    }
   ],
   "source": [
    "data.info()"
   ]
  },
  {
   "cell_type": "code",
   "execution_count": 52,
   "id": "d5733579",
   "metadata": {},
   "outputs": [
    {
     "data": {
      "text/html": [
       "<div>\n",
       "<style scoped>\n",
       "    .dataframe tbody tr th:only-of-type {\n",
       "        vertical-align: middle;\n",
       "    }\n",
       "\n",
       "    .dataframe tbody tr th {\n",
       "        vertical-align: top;\n",
       "    }\n",
       "\n",
       "    .dataframe thead th {\n",
       "        text-align: right;\n",
       "    }\n",
       "</style>\n",
       "<table border=\"1\" class=\"dataframe\">\n",
       "  <thead>\n",
       "    <tr style=\"text-align: right;\">\n",
       "      <th></th>\n",
       "      <th>gender</th>\n",
       "      <th>DateOfBirth</th>\n",
       "      <th>State</th>\n",
       "      <th>Contact</th>\n",
       "      <th>Segment</th>\n",
       "      <th>claim_id</th>\n",
       "      <th>customer_id</th>\n",
       "      <th>incident_cause</th>\n",
       "      <th>claim_date</th>\n",
       "      <th>claim_area</th>\n",
       "      <th>police_report</th>\n",
       "      <th>claim_type</th>\n",
       "      <th>claim_amount</th>\n",
       "      <th>total_policy_claims</th>\n",
       "      <th>fraudulent</th>\n",
       "      <th>_merge</th>\n",
       "    </tr>\n",
       "  </thead>\n",
       "  <tbody>\n",
       "    <tr>\n",
       "      <th>0</th>\n",
       "      <td>Female</td>\n",
       "      <td>1979-01-12</td>\n",
       "      <td>VT</td>\n",
       "      <td>789-916-8172</td>\n",
       "      <td>Platinum</td>\n",
       "      <td>54004764</td>\n",
       "      <td>21868593</td>\n",
       "      <td>Driver error</td>\n",
       "      <td>2017-11-27</td>\n",
       "      <td>Auto</td>\n",
       "      <td>No</td>\n",
       "      <td>Material only</td>\n",
       "      <td>$2980</td>\n",
       "      <td>1.0</td>\n",
       "      <td>No</td>\n",
       "      <td>both</td>\n",
       "    </tr>\n",
       "    <tr>\n",
       "      <th>1</th>\n",
       "      <td>Female</td>\n",
       "      <td>2070-01-13</td>\n",
       "      <td>ME</td>\n",
       "      <td>265-543-1264</td>\n",
       "      <td>Silver</td>\n",
       "      <td>33985796</td>\n",
       "      <td>75740424</td>\n",
       "      <td>Crime</td>\n",
       "      <td>2018-10-03</td>\n",
       "      <td>Home</td>\n",
       "      <td>Unknown</td>\n",
       "      <td>Material only</td>\n",
       "      <td>$2980</td>\n",
       "      <td>3.0</td>\n",
       "      <td>No</td>\n",
       "      <td>both</td>\n",
       "    </tr>\n",
       "    <tr>\n",
       "      <th>2</th>\n",
       "      <td>Female</td>\n",
       "      <td>1984-03-11</td>\n",
       "      <td>TN</td>\n",
       "      <td>798-631-4758</td>\n",
       "      <td>Silver</td>\n",
       "      <td>53522022</td>\n",
       "      <td>30308357</td>\n",
       "      <td>Other driver error</td>\n",
       "      <td>2018-02-02</td>\n",
       "      <td>Auto</td>\n",
       "      <td>No</td>\n",
       "      <td>Material only</td>\n",
       "      <td>$3369.5</td>\n",
       "      <td>1.0</td>\n",
       "      <td>Yes</td>\n",
       "      <td>both</td>\n",
       "    </tr>\n",
       "    <tr>\n",
       "      <th>3</th>\n",
       "      <td>Female</td>\n",
       "      <td>1984-03-11</td>\n",
       "      <td>TN</td>\n",
       "      <td>798-631-4758</td>\n",
       "      <td>Silver</td>\n",
       "      <td>63017412</td>\n",
       "      <td>30308357</td>\n",
       "      <td>Driver error</td>\n",
       "      <td>2018-04-04</td>\n",
       "      <td>Auto</td>\n",
       "      <td>No</td>\n",
       "      <td>Material only</td>\n",
       "      <td>$1950</td>\n",
       "      <td>6.0</td>\n",
       "      <td>No</td>\n",
       "      <td>both</td>\n",
       "    </tr>\n",
       "    <tr>\n",
       "      <th>4</th>\n",
       "      <td>Female</td>\n",
       "      <td>1986-05-01</td>\n",
       "      <td>MA</td>\n",
       "      <td>413-187-7945</td>\n",
       "      <td>Silver</td>\n",
       "      <td>13015401</td>\n",
       "      <td>47830476</td>\n",
       "      <td>Natural causes</td>\n",
       "      <td>2018-06-17</td>\n",
       "      <td>Auto</td>\n",
       "      <td>No</td>\n",
       "      <td>Material only</td>\n",
       "      <td>$1680</td>\n",
       "      <td>1.0</td>\n",
       "      <td>No</td>\n",
       "      <td>both</td>\n",
       "    </tr>\n",
       "  </tbody>\n",
       "</table>\n",
       "</div>"
      ],
      "text/plain": [
       "   gender DateOfBirth State       Contact   Segment  claim_id  customer_id  \\\n",
       "0  Female  1979-01-12    VT  789-916-8172  Platinum  54004764     21868593   \n",
       "1  Female  2070-01-13    ME  265-543-1264    Silver  33985796     75740424   \n",
       "2  Female  1984-03-11    TN  798-631-4758    Silver  53522022     30308357   \n",
       "3  Female  1984-03-11    TN  798-631-4758    Silver  63017412     30308357   \n",
       "4  Female  1986-05-01    MA  413-187-7945    Silver  13015401     47830476   \n",
       "\n",
       "       incident_cause claim_date claim_area police_report     claim_type  \\\n",
       "0        Driver error 2017-11-27       Auto            No  Material only   \n",
       "1               Crime 2018-10-03       Home       Unknown  Material only   \n",
       "2  Other driver error 2018-02-02       Auto            No  Material only   \n",
       "3        Driver error 2018-04-04       Auto            No  Material only   \n",
       "4      Natural causes 2018-06-17       Auto            No  Material only   \n",
       "\n",
       "  claim_amount  total_policy_claims fraudulent _merge  \n",
       "0        $2980                  1.0         No   both  \n",
       "1        $2980                  3.0         No   both  \n",
       "2      $3369.5                  1.0        Yes   both  \n",
       "3        $1950                  6.0         No   both  \n",
       "4        $1680                  1.0         No   both  "
      ]
     },
     "execution_count": 52,
     "metadata": {},
     "output_type": "execute_result"
    }
   ],
   "source": [
    "data.head()"
   ]
  },
  {
   "cell_type": "markdown",
   "id": "663fc117",
   "metadata": {},
   "source": [
    "#### 3. Convert the column claim_amount to numeric. Use the appropriate modules/attributes to remove the $ sign."
   ]
  },
  {
   "cell_type": "code",
   "execution_count": 53,
   "id": "913fea82",
   "metadata": {},
   "outputs": [
    {
     "name": "stderr",
     "output_type": "stream",
     "text": [
      "C:\\Users\\asus\\AppData\\Local\\Temp\\ipykernel_10228\\4119437957.py:2: FutureWarning: The default value of regex will change from True to False in a future version. In addition, single character regular expressions will *not* be treated as literal strings when regex=True.\n",
      "  data['claim_amount'] = data['claim_amount'].str.replace('$', \"\")\n"
     ]
    },
    {
     "data": {
      "text/plain": [
       "dtype('float64')"
      ]
     },
     "execution_count": 53,
     "metadata": {},
     "output_type": "execute_result"
    }
   ],
   "source": [
    "data['claim_amount'] = data['claim_amount'].astype(str)\n",
    "data['claim_amount'] = data['claim_amount'].str.replace('$', \"\")\n",
    "data['claim_amount']  = np.where(data['claim_amount'] == 'nan', '', data['claim_amount'])\n",
    "data['claim_amount'] = pd.to_numeric(data['claim_amount'])\n",
    "np.dtype(data.claim_amount)\n"
   ]
  },
  {
   "cell_type": "markdown",
   "id": "f3cd49a4",
   "metadata": {},
   "source": [
    "#### 4. Of all the injury claims, some of them have gone unreported with the police. Create an alert flag (1,0) for all such claims."
   ]
  },
  {
   "cell_type": "code",
   "execution_count": 54,
   "id": "ed2e95fb",
   "metadata": {},
   "outputs": [
    {
     "data": {
      "text/html": [
       "<div>\n",
       "<style scoped>\n",
       "    .dataframe tbody tr th:only-of-type {\n",
       "        vertical-align: middle;\n",
       "    }\n",
       "\n",
       "    .dataframe tbody tr th {\n",
       "        vertical-align: top;\n",
       "    }\n",
       "\n",
       "    .dataframe thead th {\n",
       "        text-align: right;\n",
       "    }\n",
       "</style>\n",
       "<table border=\"1\" class=\"dataframe\">\n",
       "  <thead>\n",
       "    <tr style=\"text-align: right;\">\n",
       "      <th></th>\n",
       "      <th>gender</th>\n",
       "      <th>DateOfBirth</th>\n",
       "      <th>State</th>\n",
       "      <th>Contact</th>\n",
       "      <th>Segment</th>\n",
       "      <th>claim_id</th>\n",
       "      <th>customer_id</th>\n",
       "      <th>incident_cause</th>\n",
       "      <th>claim_date</th>\n",
       "      <th>claim_area</th>\n",
       "      <th>police_report</th>\n",
       "      <th>claim_type</th>\n",
       "      <th>claim_amount</th>\n",
       "      <th>total_policy_claims</th>\n",
       "      <th>fraudulent</th>\n",
       "      <th>_merge</th>\n",
       "      <th>unreported_claims</th>\n",
       "    </tr>\n",
       "  </thead>\n",
       "  <tbody>\n",
       "    <tr>\n",
       "      <th>0</th>\n",
       "      <td>Female</td>\n",
       "      <td>1979-01-12</td>\n",
       "      <td>VT</td>\n",
       "      <td>789-916-8172</td>\n",
       "      <td>Platinum</td>\n",
       "      <td>54004764</td>\n",
       "      <td>21868593</td>\n",
       "      <td>Driver error</td>\n",
       "      <td>2017-11-27</td>\n",
       "      <td>Auto</td>\n",
       "      <td>No</td>\n",
       "      <td>Material only</td>\n",
       "      <td>2980.0</td>\n",
       "      <td>1.0</td>\n",
       "      <td>No</td>\n",
       "      <td>both</td>\n",
       "      <td>1</td>\n",
       "    </tr>\n",
       "    <tr>\n",
       "      <th>1</th>\n",
       "      <td>Female</td>\n",
       "      <td>2070-01-13</td>\n",
       "      <td>ME</td>\n",
       "      <td>265-543-1264</td>\n",
       "      <td>Silver</td>\n",
       "      <td>33985796</td>\n",
       "      <td>75740424</td>\n",
       "      <td>Crime</td>\n",
       "      <td>2018-10-03</td>\n",
       "      <td>Home</td>\n",
       "      <td>Unknown</td>\n",
       "      <td>Material only</td>\n",
       "      <td>2980.0</td>\n",
       "      <td>3.0</td>\n",
       "      <td>No</td>\n",
       "      <td>both</td>\n",
       "      <td>0</td>\n",
       "    </tr>\n",
       "    <tr>\n",
       "      <th>2</th>\n",
       "      <td>Female</td>\n",
       "      <td>1984-03-11</td>\n",
       "      <td>TN</td>\n",
       "      <td>798-631-4758</td>\n",
       "      <td>Silver</td>\n",
       "      <td>53522022</td>\n",
       "      <td>30308357</td>\n",
       "      <td>Other driver error</td>\n",
       "      <td>2018-02-02</td>\n",
       "      <td>Auto</td>\n",
       "      <td>No</td>\n",
       "      <td>Material only</td>\n",
       "      <td>3369.5</td>\n",
       "      <td>1.0</td>\n",
       "      <td>Yes</td>\n",
       "      <td>both</td>\n",
       "      <td>1</td>\n",
       "    </tr>\n",
       "    <tr>\n",
       "      <th>3</th>\n",
       "      <td>Female</td>\n",
       "      <td>1984-03-11</td>\n",
       "      <td>TN</td>\n",
       "      <td>798-631-4758</td>\n",
       "      <td>Silver</td>\n",
       "      <td>63017412</td>\n",
       "      <td>30308357</td>\n",
       "      <td>Driver error</td>\n",
       "      <td>2018-04-04</td>\n",
       "      <td>Auto</td>\n",
       "      <td>No</td>\n",
       "      <td>Material only</td>\n",
       "      <td>1950.0</td>\n",
       "      <td>6.0</td>\n",
       "      <td>No</td>\n",
       "      <td>both</td>\n",
       "      <td>1</td>\n",
       "    </tr>\n",
       "    <tr>\n",
       "      <th>4</th>\n",
       "      <td>Female</td>\n",
       "      <td>1986-05-01</td>\n",
       "      <td>MA</td>\n",
       "      <td>413-187-7945</td>\n",
       "      <td>Silver</td>\n",
       "      <td>13015401</td>\n",
       "      <td>47830476</td>\n",
       "      <td>Natural causes</td>\n",
       "      <td>2018-06-17</td>\n",
       "      <td>Auto</td>\n",
       "      <td>No</td>\n",
       "      <td>Material only</td>\n",
       "      <td>1680.0</td>\n",
       "      <td>1.0</td>\n",
       "      <td>No</td>\n",
       "      <td>both</td>\n",
       "      <td>1</td>\n",
       "    </tr>\n",
       "    <tr>\n",
       "      <th>...</th>\n",
       "      <td>...</td>\n",
       "      <td>...</td>\n",
       "      <td>...</td>\n",
       "      <td>...</td>\n",
       "      <td>...</td>\n",
       "      <td>...</td>\n",
       "      <td>...</td>\n",
       "      <td>...</td>\n",
       "      <td>...</td>\n",
       "      <td>...</td>\n",
       "      <td>...</td>\n",
       "      <td>...</td>\n",
       "      <td>...</td>\n",
       "      <td>...</td>\n",
       "      <td>...</td>\n",
       "      <td>...</td>\n",
       "      <td>...</td>\n",
       "    </tr>\n",
       "    <tr>\n",
       "      <th>1080</th>\n",
       "      <td>Female</td>\n",
       "      <td>1981-03-15</td>\n",
       "      <td>ND</td>\n",
       "      <td>459-425-4319</td>\n",
       "      <td>Platinum</td>\n",
       "      <td>62020796</td>\n",
       "      <td>79539873</td>\n",
       "      <td>Other driver error</td>\n",
       "      <td>2018-09-06</td>\n",
       "      <td>Auto</td>\n",
       "      <td>Yes</td>\n",
       "      <td>Material only</td>\n",
       "      <td>1770.0</td>\n",
       "      <td>1.0</td>\n",
       "      <td>No</td>\n",
       "      <td>both</td>\n",
       "      <td>1</td>\n",
       "    </tr>\n",
       "    <tr>\n",
       "      <th>1081</th>\n",
       "      <td>Female</td>\n",
       "      <td>1996-07-07</td>\n",
       "      <td>ID</td>\n",
       "      <td>529-462-1635</td>\n",
       "      <td>Silver</td>\n",
       "      <td>63269067</td>\n",
       "      <td>42364152</td>\n",
       "      <td>Other causes</td>\n",
       "      <td>2017-05-09</td>\n",
       "      <td>Home</td>\n",
       "      <td>No</td>\n",
       "      <td>Material only</td>\n",
       "      <td>2800.0</td>\n",
       "      <td>1.0</td>\n",
       "      <td>No</td>\n",
       "      <td>both</td>\n",
       "      <td>1</td>\n",
       "    </tr>\n",
       "    <tr>\n",
       "      <th>1082</th>\n",
       "      <td>Male</td>\n",
       "      <td>1990-04-11</td>\n",
       "      <td>WI</td>\n",
       "      <td>712-651-9613</td>\n",
       "      <td>Gold</td>\n",
       "      <td>22690595</td>\n",
       "      <td>19888166</td>\n",
       "      <td>Other driver error</td>\n",
       "      <td>2017-05-15</td>\n",
       "      <td>Auto</td>\n",
       "      <td>Yes</td>\n",
       "      <td>Injury only</td>\n",
       "      <td>33080.0</td>\n",
       "      <td>2.0</td>\n",
       "      <td>No</td>\n",
       "      <td>both</td>\n",
       "      <td>1</td>\n",
       "    </tr>\n",
       "    <tr>\n",
       "      <th>1083</th>\n",
       "      <td>Female</td>\n",
       "      <td>2064-10-22</td>\n",
       "      <td>LA</td>\n",
       "      <td>469-345-5617</td>\n",
       "      <td>Silver</td>\n",
       "      <td>12376894</td>\n",
       "      <td>11256802</td>\n",
       "      <td>Other driver error</td>\n",
       "      <td>2017-04-18</td>\n",
       "      <td>Auto</td>\n",
       "      <td>No</td>\n",
       "      <td>Material only</td>\n",
       "      <td>2840.0</td>\n",
       "      <td>4.0</td>\n",
       "      <td>No</td>\n",
       "      <td>both</td>\n",
       "      <td>1</td>\n",
       "    </tr>\n",
       "    <tr>\n",
       "      <th>1084</th>\n",
       "      <td>Male</td>\n",
       "      <td>1995-07-12</td>\n",
       "      <td>WY</td>\n",
       "      <td>182-385-1392</td>\n",
       "      <td>Gold</td>\n",
       "      <td>63226031</td>\n",
       "      <td>61575264</td>\n",
       "      <td>Natural causes</td>\n",
       "      <td>2017-03-16</td>\n",
       "      <td>Auto</td>\n",
       "      <td>No</td>\n",
       "      <td>Material only</td>\n",
       "      <td>1490.0</td>\n",
       "      <td>1.0</td>\n",
       "      <td>No</td>\n",
       "      <td>both</td>\n",
       "      <td>1</td>\n",
       "    </tr>\n",
       "  </tbody>\n",
       "</table>\n",
       "<p>1085 rows × 17 columns</p>\n",
       "</div>"
      ],
      "text/plain": [
       "      gender DateOfBirth State       Contact   Segment  claim_id  customer_id  \\\n",
       "0     Female  1979-01-12    VT  789-916-8172  Platinum  54004764     21868593   \n",
       "1     Female  2070-01-13    ME  265-543-1264    Silver  33985796     75740424   \n",
       "2     Female  1984-03-11    TN  798-631-4758    Silver  53522022     30308357   \n",
       "3     Female  1984-03-11    TN  798-631-4758    Silver  63017412     30308357   \n",
       "4     Female  1986-05-01    MA  413-187-7945    Silver  13015401     47830476   \n",
       "...      ...         ...   ...           ...       ...       ...          ...   \n",
       "1080  Female  1981-03-15    ND  459-425-4319  Platinum  62020796     79539873   \n",
       "1081  Female  1996-07-07    ID  529-462-1635    Silver  63269067     42364152   \n",
       "1082    Male  1990-04-11    WI  712-651-9613      Gold  22690595     19888166   \n",
       "1083  Female  2064-10-22    LA  469-345-5617    Silver  12376894     11256802   \n",
       "1084    Male  1995-07-12    WY  182-385-1392      Gold  63226031     61575264   \n",
       "\n",
       "          incident_cause claim_date claim_area police_report     claim_type  \\\n",
       "0           Driver error 2017-11-27       Auto            No  Material only   \n",
       "1                  Crime 2018-10-03       Home       Unknown  Material only   \n",
       "2     Other driver error 2018-02-02       Auto            No  Material only   \n",
       "3           Driver error 2018-04-04       Auto            No  Material only   \n",
       "4         Natural causes 2018-06-17       Auto            No  Material only   \n",
       "...                  ...        ...        ...           ...            ...   \n",
       "1080  Other driver error 2018-09-06       Auto           Yes  Material only   \n",
       "1081        Other causes 2017-05-09       Home            No  Material only   \n",
       "1082  Other driver error 2017-05-15       Auto           Yes    Injury only   \n",
       "1083  Other driver error 2017-04-18       Auto            No  Material only   \n",
       "1084      Natural causes 2017-03-16       Auto            No  Material only   \n",
       "\n",
       "      claim_amount  total_policy_claims fraudulent _merge  unreported_claims  \n",
       "0           2980.0                  1.0         No   both                  1  \n",
       "1           2980.0                  3.0         No   both                  0  \n",
       "2           3369.5                  1.0        Yes   both                  1  \n",
       "3           1950.0                  6.0         No   both                  1  \n",
       "4           1680.0                  1.0         No   both                  1  \n",
       "...            ...                  ...        ...    ...                ...  \n",
       "1080        1770.0                  1.0         No   both                  1  \n",
       "1081        2800.0                  1.0         No   both                  1  \n",
       "1082       33080.0                  2.0         No   both                  1  \n",
       "1083        2840.0                  4.0         No   both                  1  \n",
       "1084        1490.0                  1.0         No   both                  1  \n",
       "\n",
       "[1085 rows x 17 columns]"
      ]
     },
     "execution_count": 54,
     "metadata": {},
     "output_type": "execute_result"
    }
   ],
   "source": [
    "data['unreported_claims'] = np.where(data.police_report == 'Unknown',0,1)\n",
    "data"
   ]
  },
  {
   "cell_type": "markdown",
   "id": "fe4fff39",
   "metadata": {},
   "source": [
    "#### 5. One customer can claim for insurance more than once and in each claim, multiple categories of claims can be involved. However, customer ID  should remain unique. Retain the most recent observation and delete any duplicated records in the data based on the customer ID column.\n"
   ]
  },
  {
   "cell_type": "code",
   "execution_count": 55,
   "id": "47088036",
   "metadata": {},
   "outputs": [],
   "source": [
    "data = data.groupby('customer_id').first().reset_index(drop = True)"
   ]
  },
  {
   "cell_type": "code",
   "execution_count": 56,
   "id": "efd501df",
   "metadata": {},
   "outputs": [
    {
     "data": {
      "text/html": [
       "<div>\n",
       "<style scoped>\n",
       "    .dataframe tbody tr th:only-of-type {\n",
       "        vertical-align: middle;\n",
       "    }\n",
       "\n",
       "    .dataframe tbody tr th {\n",
       "        vertical-align: top;\n",
       "    }\n",
       "\n",
       "    .dataframe thead th {\n",
       "        text-align: right;\n",
       "    }\n",
       "</style>\n",
       "<table border=\"1\" class=\"dataframe\">\n",
       "  <thead>\n",
       "    <tr style=\"text-align: right;\">\n",
       "      <th></th>\n",
       "      <th>gender</th>\n",
       "      <th>DateOfBirth</th>\n",
       "      <th>State</th>\n",
       "      <th>Contact</th>\n",
       "      <th>Segment</th>\n",
       "      <th>claim_id</th>\n",
       "      <th>incident_cause</th>\n",
       "      <th>claim_date</th>\n",
       "      <th>claim_area</th>\n",
       "      <th>police_report</th>\n",
       "      <th>claim_type</th>\n",
       "      <th>claim_amount</th>\n",
       "      <th>total_policy_claims</th>\n",
       "      <th>fraudulent</th>\n",
       "      <th>_merge</th>\n",
       "      <th>unreported_claims</th>\n",
       "    </tr>\n",
       "  </thead>\n",
       "  <tbody>\n",
       "    <tr>\n",
       "      <th>0</th>\n",
       "      <td>Female</td>\n",
       "      <td>1978-05-23</td>\n",
       "      <td>DE</td>\n",
       "      <td>962-879-1238</td>\n",
       "      <td>Platinum</td>\n",
       "      <td>69348631</td>\n",
       "      <td>Driver error</td>\n",
       "      <td>2018-04-10</td>\n",
       "      <td>Auto</td>\n",
       "      <td>No</td>\n",
       "      <td>Injury only</td>\n",
       "      <td>NaN</td>\n",
       "      <td>1.0</td>\n",
       "      <td>Yes</td>\n",
       "      <td>both</td>\n",
       "      <td>1</td>\n",
       "    </tr>\n",
       "    <tr>\n",
       "      <th>1</th>\n",
       "      <td>Male</td>\n",
       "      <td>1972-12-20</td>\n",
       "      <td>TX</td>\n",
       "      <td>173-892-6314</td>\n",
       "      <td>Silver</td>\n",
       "      <td>40953049</td>\n",
       "      <td>Other causes</td>\n",
       "      <td>2018-04-04</td>\n",
       "      <td>Auto</td>\n",
       "      <td>No</td>\n",
       "      <td>Material and injury</td>\n",
       "      <td>39192.0</td>\n",
       "      <td>1.0</td>\n",
       "      <td>Yes</td>\n",
       "      <td>both</td>\n",
       "      <td>1</td>\n",
       "    </tr>\n",
       "    <tr>\n",
       "      <th>2</th>\n",
       "      <td>Male</td>\n",
       "      <td>1988-07-28</td>\n",
       "      <td>FL</td>\n",
       "      <td>364-598-1549</td>\n",
       "      <td>Silver</td>\n",
       "      <td>45780237</td>\n",
       "      <td>Natural causes</td>\n",
       "      <td>2017-10-17</td>\n",
       "      <td>Auto</td>\n",
       "      <td>Unknown</td>\n",
       "      <td>Material only</td>\n",
       "      <td>1621.5</td>\n",
       "      <td>2.0</td>\n",
       "      <td>Yes</td>\n",
       "      <td>both</td>\n",
       "      <td>0</td>\n",
       "    </tr>\n",
       "    <tr>\n",
       "      <th>3</th>\n",
       "      <td>Male</td>\n",
       "      <td>2071-08-19</td>\n",
       "      <td>CA</td>\n",
       "      <td>187-348-8375</td>\n",
       "      <td>Gold</td>\n",
       "      <td>89833962</td>\n",
       "      <td>Other causes</td>\n",
       "      <td>2018-03-21</td>\n",
       "      <td>Auto</td>\n",
       "      <td>Yes</td>\n",
       "      <td>Material and injury</td>\n",
       "      <td>37040.0</td>\n",
       "      <td>1.0</td>\n",
       "      <td>No</td>\n",
       "      <td>both</td>\n",
       "      <td>1</td>\n",
       "    </tr>\n",
       "    <tr>\n",
       "      <th>4</th>\n",
       "      <td>Female</td>\n",
       "      <td>1980-08-10</td>\n",
       "      <td>NC</td>\n",
       "      <td>798-862-5398</td>\n",
       "      <td>Gold</td>\n",
       "      <td>35782742</td>\n",
       "      <td>Other driver error</td>\n",
       "      <td>2018-07-27</td>\n",
       "      <td>Auto</td>\n",
       "      <td>No</td>\n",
       "      <td>Injury only</td>\n",
       "      <td>35250.0</td>\n",
       "      <td>3.0</td>\n",
       "      <td>No</td>\n",
       "      <td>both</td>\n",
       "      <td>1</td>\n",
       "    </tr>\n",
       "  </tbody>\n",
       "</table>\n",
       "</div>"
      ],
      "text/plain": [
       "   gender DateOfBirth State       Contact   Segment  claim_id  \\\n",
       "0  Female  1978-05-23    DE  962-879-1238  Platinum  69348631   \n",
       "1    Male  1972-12-20    TX  173-892-6314    Silver  40953049   \n",
       "2    Male  1988-07-28    FL  364-598-1549    Silver  45780237   \n",
       "3    Male  2071-08-19    CA  187-348-8375      Gold  89833962   \n",
       "4  Female  1980-08-10    NC  798-862-5398      Gold  35782742   \n",
       "\n",
       "       incident_cause claim_date claim_area police_report  \\\n",
       "0        Driver error 2018-04-10       Auto            No   \n",
       "1        Other causes 2018-04-04       Auto            No   \n",
       "2      Natural causes 2017-10-17       Auto       Unknown   \n",
       "3        Other causes 2018-03-21       Auto           Yes   \n",
       "4  Other driver error 2018-07-27       Auto            No   \n",
       "\n",
       "            claim_type  claim_amount  total_policy_claims fraudulent _merge  \\\n",
       "0          Injury only           NaN                  1.0        Yes   both   \n",
       "1  Material and injury       39192.0                  1.0        Yes   both   \n",
       "2        Material only        1621.5                  2.0        Yes   both   \n",
       "3  Material and injury       37040.0                  1.0         No   both   \n",
       "4          Injury only       35250.0                  3.0         No   both   \n",
       "\n",
       "   unreported_claims  \n",
       "0                  1  \n",
       "1                  1  \n",
       "2                  0  \n",
       "3                  1  \n",
       "4                  1  "
      ]
     },
     "execution_count": 56,
     "metadata": {},
     "output_type": "execute_result"
    }
   ],
   "source": [
    "data.head()"
   ]
  },
  {
   "cell_type": "markdown",
   "id": "42f40f37",
   "metadata": {},
   "source": [
    "#### 6. Check for missing values and impute the missing values with an appropriate value. (mean for continuous and mode for categorical)"
   ]
  },
  {
   "cell_type": "code",
   "execution_count": 57,
   "id": "6b85272f",
   "metadata": {},
   "outputs": [
    {
     "data": {
      "text/plain": [
       "gender                  0\n",
       "DateOfBirth             0\n",
       "State                   0\n",
       "Contact                 0\n",
       "Segment                 0\n",
       "claim_id                0\n",
       "incident_cause          0\n",
       "claim_date              0\n",
       "claim_area              0\n",
       "police_report           0\n",
       "claim_type              0\n",
       "claim_amount           65\n",
       "total_policy_claims    10\n",
       "fraudulent              0\n",
       "_merge                  0\n",
       "unreported_claims       0\n",
       "dtype: int64"
      ]
     },
     "execution_count": 57,
     "metadata": {},
     "output_type": "execute_result"
    }
   ],
   "source": [
    "data.isna().sum()"
   ]
  },
  {
   "cell_type": "code",
   "execution_count": 58,
   "id": "8e1b0744",
   "metadata": {},
   "outputs": [],
   "source": [
    "data.claim_amount=data.claim_amount.fillna(data.claim_amount.median())\n",
    "data.total_policy_claims=data.total_policy_claims.fillna(data.total_policy_claims.median())"
   ]
  },
  {
   "cell_type": "code",
   "execution_count": 59,
   "id": "cae4f1e6",
   "metadata": {},
   "outputs": [
    {
     "data": {
      "text/plain": [
       "gender                 0\n",
       "DateOfBirth            0\n",
       "State                  0\n",
       "Contact                0\n",
       "Segment                0\n",
       "claim_id               0\n",
       "incident_cause         0\n",
       "claim_date             0\n",
       "claim_area             0\n",
       "police_report          0\n",
       "claim_type             0\n",
       "claim_amount           0\n",
       "total_policy_claims    0\n",
       "fraudulent             0\n",
       "_merge                 0\n",
       "unreported_claims      0\n",
       "dtype: int64"
      ]
     },
     "execution_count": 59,
     "metadata": {},
     "output_type": "execute_result"
    }
   ],
   "source": [
    "data.isna().sum()"
   ]
  },
  {
   "cell_type": "markdown",
   "id": "5f64b4ad",
   "metadata": {},
   "source": [
    "#### 7. Calculate the age of customers in years. Based on the age, categorize the\n",
    "#### customers according to the below criteria\n",
    "#### Children < 18\n",
    "#### Youth 18-30\n",
    "#### Adult 30-60\n",
    "#### Senior > 60"
   ]
  },
  {
   "cell_type": "code",
   "execution_count": 60,
   "id": "a38d6ded",
   "metadata": {},
   "outputs": [],
   "source": [
    "curr_year = pd.to_datetime('today').year\n",
    "dob_year  = pd.DatetimeIndex(data['DateOfBirth']).year\n",
    "x = dob_year - 100\n",
    "v = curr_year - x\n",
    "y = curr_year - dob_year\n",
    "data['age'] = (np.where(dob_year > curr_year,v,y))\n",
    "\n",
    "data.loc[(data.age < 18),'AgeGroup'] = 'children'\n",
    "data.loc[(data.age >=18) & (data.age <30),'AgeGroup'] = 'Youth'\n",
    "data.loc[(data.age >=30) & (data.age <60),'AgeGroup'] = 'Adult'\n",
    "data.loc[(data.age >=60),'AgeGroup'] = 'Senior'"
   ]
  },
  {
   "cell_type": "code",
   "execution_count": 61,
   "id": "763d9972",
   "metadata": {},
   "outputs": [
    {
     "data": {
      "text/html": [
       "<div>\n",
       "<style scoped>\n",
       "    .dataframe tbody tr th:only-of-type {\n",
       "        vertical-align: middle;\n",
       "    }\n",
       "\n",
       "    .dataframe tbody tr th {\n",
       "        vertical-align: top;\n",
       "    }\n",
       "\n",
       "    .dataframe thead th {\n",
       "        text-align: right;\n",
       "    }\n",
       "</style>\n",
       "<table border=\"1\" class=\"dataframe\">\n",
       "  <thead>\n",
       "    <tr style=\"text-align: right;\">\n",
       "      <th></th>\n",
       "      <th>gender</th>\n",
       "      <th>DateOfBirth</th>\n",
       "      <th>State</th>\n",
       "      <th>Contact</th>\n",
       "      <th>Segment</th>\n",
       "      <th>claim_id</th>\n",
       "      <th>incident_cause</th>\n",
       "      <th>claim_date</th>\n",
       "      <th>claim_area</th>\n",
       "      <th>police_report</th>\n",
       "      <th>claim_type</th>\n",
       "      <th>claim_amount</th>\n",
       "      <th>total_policy_claims</th>\n",
       "      <th>fraudulent</th>\n",
       "      <th>_merge</th>\n",
       "      <th>unreported_claims</th>\n",
       "      <th>age</th>\n",
       "      <th>AgeGroup</th>\n",
       "    </tr>\n",
       "  </thead>\n",
       "  <tbody>\n",
       "    <tr>\n",
       "      <th>0</th>\n",
       "      <td>Female</td>\n",
       "      <td>1978-05-23</td>\n",
       "      <td>DE</td>\n",
       "      <td>962-879-1238</td>\n",
       "      <td>Platinum</td>\n",
       "      <td>69348631</td>\n",
       "      <td>Driver error</td>\n",
       "      <td>2018-04-10</td>\n",
       "      <td>Auto</td>\n",
       "      <td>No</td>\n",
       "      <td>Injury only</td>\n",
       "      <td>2740.0</td>\n",
       "      <td>1.0</td>\n",
       "      <td>Yes</td>\n",
       "      <td>both</td>\n",
       "      <td>1</td>\n",
       "      <td>44</td>\n",
       "      <td>Adult</td>\n",
       "    </tr>\n",
       "    <tr>\n",
       "      <th>1</th>\n",
       "      <td>Male</td>\n",
       "      <td>1972-12-20</td>\n",
       "      <td>TX</td>\n",
       "      <td>173-892-6314</td>\n",
       "      <td>Silver</td>\n",
       "      <td>40953049</td>\n",
       "      <td>Other causes</td>\n",
       "      <td>2018-04-04</td>\n",
       "      <td>Auto</td>\n",
       "      <td>No</td>\n",
       "      <td>Material and injury</td>\n",
       "      <td>39192.0</td>\n",
       "      <td>1.0</td>\n",
       "      <td>Yes</td>\n",
       "      <td>both</td>\n",
       "      <td>1</td>\n",
       "      <td>50</td>\n",
       "      <td>Adult</td>\n",
       "    </tr>\n",
       "    <tr>\n",
       "      <th>2</th>\n",
       "      <td>Male</td>\n",
       "      <td>1988-07-28</td>\n",
       "      <td>FL</td>\n",
       "      <td>364-598-1549</td>\n",
       "      <td>Silver</td>\n",
       "      <td>45780237</td>\n",
       "      <td>Natural causes</td>\n",
       "      <td>2017-10-17</td>\n",
       "      <td>Auto</td>\n",
       "      <td>Unknown</td>\n",
       "      <td>Material only</td>\n",
       "      <td>1621.5</td>\n",
       "      <td>2.0</td>\n",
       "      <td>Yes</td>\n",
       "      <td>both</td>\n",
       "      <td>0</td>\n",
       "      <td>34</td>\n",
       "      <td>Adult</td>\n",
       "    </tr>\n",
       "    <tr>\n",
       "      <th>3</th>\n",
       "      <td>Male</td>\n",
       "      <td>2071-08-19</td>\n",
       "      <td>CA</td>\n",
       "      <td>187-348-8375</td>\n",
       "      <td>Gold</td>\n",
       "      <td>89833962</td>\n",
       "      <td>Other causes</td>\n",
       "      <td>2018-03-21</td>\n",
       "      <td>Auto</td>\n",
       "      <td>Yes</td>\n",
       "      <td>Material and injury</td>\n",
       "      <td>37040.0</td>\n",
       "      <td>1.0</td>\n",
       "      <td>No</td>\n",
       "      <td>both</td>\n",
       "      <td>1</td>\n",
       "      <td>51</td>\n",
       "      <td>Adult</td>\n",
       "    </tr>\n",
       "    <tr>\n",
       "      <th>4</th>\n",
       "      <td>Female</td>\n",
       "      <td>1980-08-10</td>\n",
       "      <td>NC</td>\n",
       "      <td>798-862-5398</td>\n",
       "      <td>Gold</td>\n",
       "      <td>35782742</td>\n",
       "      <td>Other driver error</td>\n",
       "      <td>2018-07-27</td>\n",
       "      <td>Auto</td>\n",
       "      <td>No</td>\n",
       "      <td>Injury only</td>\n",
       "      <td>35250.0</td>\n",
       "      <td>3.0</td>\n",
       "      <td>No</td>\n",
       "      <td>both</td>\n",
       "      <td>1</td>\n",
       "      <td>42</td>\n",
       "      <td>Adult</td>\n",
       "    </tr>\n",
       "    <tr>\n",
       "      <th>...</th>\n",
       "      <td>...</td>\n",
       "      <td>...</td>\n",
       "      <td>...</td>\n",
       "      <td>...</td>\n",
       "      <td>...</td>\n",
       "      <td>...</td>\n",
       "      <td>...</td>\n",
       "      <td>...</td>\n",
       "      <td>...</td>\n",
       "      <td>...</td>\n",
       "      <td>...</td>\n",
       "      <td>...</td>\n",
       "      <td>...</td>\n",
       "      <td>...</td>\n",
       "      <td>...</td>\n",
       "      <td>...</td>\n",
       "      <td>...</td>\n",
       "      <td>...</td>\n",
       "    </tr>\n",
       "    <tr>\n",
       "      <th>1073</th>\n",
       "      <td>Male</td>\n",
       "      <td>2065-01-28</td>\n",
       "      <td>UT</td>\n",
       "      <td>517-562-4916</td>\n",
       "      <td>Silver</td>\n",
       "      <td>4549014</td>\n",
       "      <td>Other causes</td>\n",
       "      <td>2018-07-07</td>\n",
       "      <td>Auto</td>\n",
       "      <td>No</td>\n",
       "      <td>Injury only</td>\n",
       "      <td>21480.0</td>\n",
       "      <td>1.0</td>\n",
       "      <td>No</td>\n",
       "      <td>both</td>\n",
       "      <td>1</td>\n",
       "      <td>57</td>\n",
       "      <td>Adult</td>\n",
       "    </tr>\n",
       "    <tr>\n",
       "      <th>1074</th>\n",
       "      <td>Female</td>\n",
       "      <td>2066-06-19</td>\n",
       "      <td>HI</td>\n",
       "      <td>457-752-1374</td>\n",
       "      <td>Gold</td>\n",
       "      <td>35453672</td>\n",
       "      <td>Natural causes</td>\n",
       "      <td>2018-01-06</td>\n",
       "      <td>Auto</td>\n",
       "      <td>Yes</td>\n",
       "      <td>Material and injury</td>\n",
       "      <td>14360.0</td>\n",
       "      <td>1.0</td>\n",
       "      <td>No</td>\n",
       "      <td>both</td>\n",
       "      <td>1</td>\n",
       "      <td>56</td>\n",
       "      <td>Adult</td>\n",
       "    </tr>\n",
       "    <tr>\n",
       "      <th>1075</th>\n",
       "      <td>Female</td>\n",
       "      <td>2063-11-18</td>\n",
       "      <td>NC</td>\n",
       "      <td>643-246-4718</td>\n",
       "      <td>Silver</td>\n",
       "      <td>37305754</td>\n",
       "      <td>Natural causes</td>\n",
       "      <td>2018-04-04</td>\n",
       "      <td>Auto</td>\n",
       "      <td>No</td>\n",
       "      <td>Material only</td>\n",
       "      <td>1242.0</td>\n",
       "      <td>1.0</td>\n",
       "      <td>Yes</td>\n",
       "      <td>both</td>\n",
       "      <td>1</td>\n",
       "      <td>59</td>\n",
       "      <td>Adult</td>\n",
       "    </tr>\n",
       "    <tr>\n",
       "      <th>1076</th>\n",
       "      <td>Male</td>\n",
       "      <td>1995-06-08</td>\n",
       "      <td>OR</td>\n",
       "      <td>395-246-6172</td>\n",
       "      <td>Gold</td>\n",
       "      <td>22960702</td>\n",
       "      <td>Driver error</td>\n",
       "      <td>2017-11-13</td>\n",
       "      <td>Auto</td>\n",
       "      <td>No</td>\n",
       "      <td>Material only</td>\n",
       "      <td>2415.0</td>\n",
       "      <td>2.0</td>\n",
       "      <td>Yes</td>\n",
       "      <td>both</td>\n",
       "      <td>1</td>\n",
       "      <td>27</td>\n",
       "      <td>Youth</td>\n",
       "    </tr>\n",
       "    <tr>\n",
       "      <th>1077</th>\n",
       "      <td>Male</td>\n",
       "      <td>1995-06-10</td>\n",
       "      <td>AL</td>\n",
       "      <td>234-943-2876</td>\n",
       "      <td>Platinum</td>\n",
       "      <td>47262068</td>\n",
       "      <td>Driver error</td>\n",
       "      <td>2018-10-23</td>\n",
       "      <td>Home</td>\n",
       "      <td>No</td>\n",
       "      <td>Material only</td>\n",
       "      <td>2310.0</td>\n",
       "      <td>1.0</td>\n",
       "      <td>No</td>\n",
       "      <td>both</td>\n",
       "      <td>1</td>\n",
       "      <td>27</td>\n",
       "      <td>Youth</td>\n",
       "    </tr>\n",
       "  </tbody>\n",
       "</table>\n",
       "<p>1078 rows × 18 columns</p>\n",
       "</div>"
      ],
      "text/plain": [
       "      gender DateOfBirth State       Contact   Segment  claim_id  \\\n",
       "0     Female  1978-05-23    DE  962-879-1238  Platinum  69348631   \n",
       "1       Male  1972-12-20    TX  173-892-6314    Silver  40953049   \n",
       "2       Male  1988-07-28    FL  364-598-1549    Silver  45780237   \n",
       "3       Male  2071-08-19    CA  187-348-8375      Gold  89833962   \n",
       "4     Female  1980-08-10    NC  798-862-5398      Gold  35782742   \n",
       "...      ...         ...   ...           ...       ...       ...   \n",
       "1073    Male  2065-01-28    UT  517-562-4916    Silver   4549014   \n",
       "1074  Female  2066-06-19    HI  457-752-1374      Gold  35453672   \n",
       "1075  Female  2063-11-18    NC  643-246-4718    Silver  37305754   \n",
       "1076    Male  1995-06-08    OR  395-246-6172      Gold  22960702   \n",
       "1077    Male  1995-06-10    AL  234-943-2876  Platinum  47262068   \n",
       "\n",
       "          incident_cause claim_date claim_area police_report  \\\n",
       "0           Driver error 2018-04-10       Auto            No   \n",
       "1           Other causes 2018-04-04       Auto            No   \n",
       "2         Natural causes 2017-10-17       Auto       Unknown   \n",
       "3           Other causes 2018-03-21       Auto           Yes   \n",
       "4     Other driver error 2018-07-27       Auto            No   \n",
       "...                  ...        ...        ...           ...   \n",
       "1073        Other causes 2018-07-07       Auto            No   \n",
       "1074      Natural causes 2018-01-06       Auto           Yes   \n",
       "1075      Natural causes 2018-04-04       Auto            No   \n",
       "1076        Driver error 2017-11-13       Auto            No   \n",
       "1077        Driver error 2018-10-23       Home            No   \n",
       "\n",
       "               claim_type  claim_amount  total_policy_claims fraudulent  \\\n",
       "0             Injury only        2740.0                  1.0        Yes   \n",
       "1     Material and injury       39192.0                  1.0        Yes   \n",
       "2           Material only        1621.5                  2.0        Yes   \n",
       "3     Material and injury       37040.0                  1.0         No   \n",
       "4             Injury only       35250.0                  3.0         No   \n",
       "...                   ...           ...                  ...        ...   \n",
       "1073          Injury only       21480.0                  1.0         No   \n",
       "1074  Material and injury       14360.0                  1.0         No   \n",
       "1075        Material only        1242.0                  1.0        Yes   \n",
       "1076        Material only        2415.0                  2.0        Yes   \n",
       "1077        Material only        2310.0                  1.0         No   \n",
       "\n",
       "     _merge  unreported_claims  age AgeGroup  \n",
       "0      both                  1   44    Adult  \n",
       "1      both                  1   50    Adult  \n",
       "2      both                  0   34    Adult  \n",
       "3      both                  1   51    Adult  \n",
       "4      both                  1   42    Adult  \n",
       "...     ...                ...  ...      ...  \n",
       "1073   both                  1   57    Adult  \n",
       "1074   both                  1   56    Adult  \n",
       "1075   both                  1   59    Adult  \n",
       "1076   both                  1   27    Youth  \n",
       "1077   both                  1   27    Youth  \n",
       "\n",
       "[1078 rows x 18 columns]"
      ]
     },
     "execution_count": 61,
     "metadata": {},
     "output_type": "execute_result"
    }
   ],
   "source": [
    "data"
   ]
  },
  {
   "cell_type": "markdown",
   "id": "14f3cc7b",
   "metadata": {},
   "source": [
    "#### 8. What is the average amount claimed by the customers from various segments?"
   ]
  },
  {
   "cell_type": "code",
   "execution_count": 62,
   "id": "23d373bf",
   "metadata": {},
   "outputs": [
    {
     "data": {
      "text/plain": [
       "Segment\n",
       "Gold        12179.469003\n",
       "Platinum    11964.990305\n",
       "Silver      11481.995665\n",
       "Name: claim_amount, dtype: float64"
      ]
     },
     "execution_count": 62,
     "metadata": {},
     "output_type": "execute_result"
    }
   ],
   "source": [
    "Avg_amt_seg= data.groupby([\"Segment\"])[\"claim_amount\"].mean()\n",
    "Avg_amt_seg"
   ]
  },
  {
   "cell_type": "markdown",
   "id": "2c08d775",
   "metadata": {},
   "source": [
    "#### 9. What is the total claim amount based on incident cause for all the claims that have been done at least 20 days prior to 1st of October, 2018"
   ]
  },
  {
   "cell_type": "code",
   "execution_count": 63,
   "id": "0648dfe2",
   "metadata": {},
   "outputs": [
    {
     "data": {
      "text/plain": [
       "incident_cause\n",
       "Crime                  675810.0\n",
       "Driver error          3147520.0\n",
       "Natural causes        1225131.5\n",
       "Other causes          3540159.0\n",
       "Other driver error    3192310.0\n",
       "Name: claim_amount, dtype: float64"
      ]
     },
     "execution_count": 63,
     "metadata": {},
     "output_type": "execute_result"
    }
   ],
   "source": [
    "amt_inci= data.loc[data.claim_date < \"2018-09-10\",:].groupby(\"incident_cause\")[\"claim_amount\"].sum()\n",
    "amt_inci"
   ]
  },
  {
   "cell_type": "markdown",
   "id": "b5a2e51b",
   "metadata": {},
   "source": [
    "#### 10. How many adults from TX, DE and AK claimed insurance for driver  related issues and causes? "
   ]
  },
  {
   "cell_type": "code",
   "execution_count": 64,
   "id": "7a73528a",
   "metadata": {},
   "outputs": [
    {
     "data": {
      "text/plain": [
       "AgeGroup    17\n",
       "dtype: int64"
      ]
     },
     "execution_count": 64,
     "metadata": {},
     "output_type": "execute_result"
    }
   ],
   "source": [
    "count = data.loc[((data.State == 'TX') | (data.State == 'DE') | (data.State == 'AK')) & (data.incident_cause == 'Driver error') & (data.AgeGroup == 'Adult'),['AgeGroup']].count()\n",
    "count"
   ]
  },
  {
   "cell_type": "markdown",
   "id": "96ebbca7",
   "metadata": {},
   "source": [
    "#### 11. Draw a pie chart between the aggregated value of claim amount based  on gender and segment. Represent the claim amount as a percentage on the pie chart."
   ]
  },
  {
   "cell_type": "code",
   "execution_count": 65,
   "id": "234f66cd",
   "metadata": {},
   "outputs": [
    {
     "data": {
      "image/png": "[encoded data removed]",
      "text/plain": [
       "<Figure size 720x432 with 2 Axes>"
      ]
     },
     "metadata": {},
     "output_type": "display_data"
    }
   ],
   "source": [
    "claim_gen_seg = data.groupby(['Segment','gender'])['claim_amount'].sum().reset_index()\n",
    "claim_pivot = claim_gen_seg.pivot(index='Segment',columns='gender',values='claim_amount')\n",
    "claim_pivot.plot(kind=\"pie\", subplots= True, legend= True,figsize=(10,6))\n",
    "plt.show()\n"
   ]
  },
  {
   "cell_type": "markdown",
   "id": "c155c4e7",
   "metadata": {},
   "source": [
    "#### 12. Among males and females, which gender had claimed the most for any type of driver related issues? E.g. This metric can be compared using a bar chart"
   ]
  },
  {
   "cell_type": "code",
   "execution_count": 66,
   "id": "f25703bb",
   "metadata": {},
   "outputs": [
    {
     "data": {
      "text/plain": [
       "<AxesSubplot:xlabel='gender'>"
      ]
     },
     "execution_count": 66,
     "metadata": {},
     "output_type": "execute_result"
    },
    {
     "data": {
      "image/png": "[encoded data removed]",
      "text/plain": [
       "<Figure size 432x288 with 1 Axes>"
      ]
     },
     "metadata": {
      "needs_background": "light"
     },
     "output_type": "display_data"
    }
   ],
   "source": [
    "rel_iss = data.loc[data['incident_cause'].isin(['Driver error','other driver error'])]\n",
    "group_gen = rel_iss.groupby(['gender'])['claim_amount'].sum()\n",
    "group_gen.plot(kind = 'bar')"
   ]
  },
  {
   "cell_type": "markdown",
   "id": "fa3102ab",
   "metadata": {},
   "source": [
    "#### 13. Which age group had the maximum fraudulent policy claims? Visualize it on a bar chart."
   ]
  },
  {
   "cell_type": "code",
   "execution_count": 67,
   "id": "ce452042",
   "metadata": {},
   "outputs": [
    {
     "data": {
      "text/plain": [
       "<AxesSubplot:xlabel='AgeGroup'>"
      ]
     },
     "execution_count": 67,
     "metadata": {},
     "output_type": "execute_result"
    },
    {
     "data": {
      "image/png": "[encoded data removed]",
      "text/plain": [
       "<Figure size 432x288 with 1 Axes>"
      ]
     },
     "metadata": {
      "needs_background": "light"
     },
     "output_type": "display_data"
    }
   ],
   "source": [
    "data['fraud'] = np.where(data.fraudulent == 'Yes',1,0)\n",
    "group_age = data.groupby(['AgeGroup'])['fraud'].sum()\n",
    "group_age.plot(kind = 'bar')"
   ]
  },
  {
   "cell_type": "markdown",
   "id": "84012dda",
   "metadata": {},
   "source": [
    "#### 14. Visualize the monthly trend of the total amount that has been claimed by the customers. Ensure that on the “month” axis, the month is in a chronological order not alphabetical order."
   ]
  },
  {
   "cell_type": "code",
   "execution_count": 68,
   "id": "89e40677",
   "metadata": {},
   "outputs": [
    {
     "data": {
      "text/plain": [
       "<AxesSubplot:xlabel='cla_month'>"
      ]
     },
     "execution_count": 68,
     "metadata": {},
     "output_type": "execute_result"
    },
    {
     "data": {
      "image/png": "[encoded data removed]",
      "text/plain": [
       "<Figure size 720x432 with 1 Axes>"
      ]
     },
     "metadata": {
      "needs_background": "light"
     },
     "output_type": "display_data"
    }
   ],
   "source": [
    "data['cla_month'] = pd.to_datetime(data['claim_date'])\n",
    "data['cla_month'] = data['cla_month'].dt.month\n",
    "vis = pd.pivot_table(data , values='claim_amount' ,index='cla_month' )\n",
    "vis.plot(kind = 'bar', figsize = (10,6),color = 'green')"
   ]
  },
  {
   "cell_type": "markdown",
   "id": "83fd184f",
   "metadata": {},
   "source": [
    "#### 15. What is the average claim amount for gender and age categories and suitably represent the above using a facetted bar chart, one facet that represents fraudulent claims and the other for non-fraudulent claims."
   ]
  },
  {
   "cell_type": "code",
   "execution_count": 69,
   "id": "840921b9",
   "metadata": {},
   "outputs": [
    {
     "data": {
      "image/png": "[encoded data removed]",
      "text/plain": [
       "<Figure size 720x432 with 2 Axes>"
      ]
     },
     "metadata": {
      "needs_background": "light"
     },
     "output_type": "display_data"
    }
   ],
   "source": [
    "fraud_amt_gen = pd.DataFrame(data.loc[(data.fraudulent == 'Yes')])\n",
    "fraud_amt_gen_group = fraud_amt_gen.groupby(['gender','AgeGroup'])[['claim_amount']].mean()\n",
    "nonfraud_amt_gen = pd.DataFrame(data.loc[(data.fraudulent == 'No')])\n",
    "nonfraud_amt_gen_group = nonfraud_amt_gen.groupby(['gender','AgeGroup'])[['claim_amount']].mean()\n",
    "# merging\n",
    "cla_age_gen = pd.merge(fraud_amt_gen_group,nonfraud_amt_gen_group,on =['gender','AgeGroup'])\n",
    "cla_age_gen.plot(kind = \"bar\",subplots = True , legend = True, figsize = (10,6))\n",
    "plt.show()"
   ]
  },
  {
   "cell_type": "markdown",
   "id": "dbb181cd",
   "metadata": {},
   "source": [
    "#### 16. Is there any similarity in the amount claimed by males and females?"
   ]
  },
  {
   "cell_type": "code",
   "execution_count": 70,
   "id": "e3e31341",
   "metadata": {},
   "outputs": [],
   "source": [
    "male=data.query('gender==\"Male\"').claim_amount\n",
    "female=data.query('gender==\"Female\"').claim_amount"
   ]
  },
  {
   "cell_type": "code",
   "execution_count": 71,
   "id": "21843c38",
   "metadata": {},
   "outputs": [
    {
     "data": {
      "text/plain": [
       "12187.067150635208"
      ]
     },
     "execution_count": 71,
     "metadata": {},
     "output_type": "execute_result"
    }
   ],
   "source": [
    "male.mean()"
   ]
  },
  {
   "cell_type": "code",
   "execution_count": 72,
   "id": "d88ce0c5",
   "metadata": {},
   "outputs": [
    {
     "data": {
      "text/plain": [
       "11566.681214421253"
      ]
     },
     "execution_count": 72,
     "metadata": {},
     "output_type": "execute_result"
    }
   ],
   "source": [
    "female.mean()"
   ]
  },
  {
   "cell_type": "code",
   "execution_count": 73,
   "id": "e01a6ff2",
   "metadata": {},
   "outputs": [
    {
     "data": {
      "text/plain": [
       "Ttest_indResult(statistic=0.7504523362795791, pvalue=0.45314638903838156)"
      ]
     },
     "execution_count": 73,
     "metadata": {},
     "output_type": "execute_result"
    }
   ],
   "source": [
    "stats.ttest_ind(male,female)"
   ]
  },
  {
   "cell_type": "markdown",
   "id": "87951e29",
   "metadata": {},
   "source": [
    "p-value = 0.3998326311098064 which is greater than 0.05 , so, we cannot reject null hypothesis. With 95 percent confidence interval, we cannot say there is similarity in the amount claimed by males and females with the help of this data .\n"
   ]
  },
  {
   "cell_type": "markdown",
   "id": "16951cbb",
   "metadata": {},
   "source": [
    "#### 17. Is there any relationship between age category and segment?"
   ]
  },
  {
   "cell_type": "code",
   "execution_count": 74,
   "id": "9ddb4412",
   "metadata": {},
   "outputs": [
    {
     "data": {
      "text/plain": [
       "(0.6654696397990999,\n",
       " 0.9555179463691874,\n",
       " 4,\n",
       " array([[273.6038961 , 266.22912801, 255.16697588],\n",
       "        [ 25.81168831,  25.11595547,  24.07235622],\n",
       "        [ 71.58441558,  69.65491651,  66.7606679 ]]))"
      ]
     },
     "execution_count": 74,
     "metadata": {},
     "output_type": "execute_result"
    }
   ],
   "source": [
    "stats.chi2_contingency(pd.crosstab(data.AgeGroup,data.Segment))"
   ]
  },
  {
   "cell_type": "markdown",
   "id": "37b19825",
   "metadata": {},
   "source": [
    "p-value=0.95741  which is greater than 0.05, so, we cannot reject null hypothesis. With 95 percent confidence interval, we can conclude that we cannot say there is relationship between age category and segment with the help of this data"
   ]
  },
  {
   "cell_type": "markdown",
   "id": "f6c8ddf2",
   "metadata": {},
   "source": [
    "#### 18. The current year has shown a significant rise in claim amounts as compared to 2016-17 fiscal average which was $10,000."
   ]
  },
  {
   "cell_type": "code",
   "execution_count": 75,
   "id": "696a9cc0",
   "metadata": {},
   "outputs": [
    {
     "data": {
      "text/plain": [
       "11883.780148423006"
      ]
     },
     "execution_count": 75,
     "metadata": {},
     "output_type": "execute_result"
    }
   ],
   "source": [
    "data.claim_amount.mean()"
   ]
  },
  {
   "cell_type": "code",
   "execution_count": 76,
   "id": "8eaeb4b7",
   "metadata": {},
   "outputs": [
    {
     "data": {
      "text/plain": [
       "Ttest_1sampResult(statistic=4.55949905934462, pvalue=5.714889520156635e-06)"
      ]
     },
     "execution_count": 76,
     "metadata": {},
     "output_type": "execute_result"
    }
   ],
   "source": [
    "stats.ttest_1samp(data.claim_amount,10000)"
   ]
  },
  {
   "cell_type": "markdown",
   "id": "e7c6c18e",
   "metadata": {},
   "source": [
    "p-value = 5.233071884881618e-06 which is less than 0.05 ,so ,we can reject null hypothesis. With 95 percent confidence interval,,we can say that The current year has shown a significant rise in claim amounts as compared to 2016-17 fiscal average which was $10,000.\n"
   ]
  },
  {
   "cell_type": "markdown",
   "id": "4a7188b3",
   "metadata": {},
   "source": [
    "#### 19. Is there any difference between age groups and insurance claims?"
   ]
  },
  {
   "cell_type": "code",
   "execution_count": 77,
   "id": "030ac564",
   "metadata": {},
   "outputs": [
    {
     "name": "stdout",
     "output_type": "stream",
     "text": [
      "<class 'pandas.core.frame.DataFrame'>\n",
      "RangeIndex: 1078 entries, 0 to 1077\n",
      "Data columns (total 20 columns):\n",
      " #   Column               Non-Null Count  Dtype         \n",
      "---  ------               --------------  -----         \n",
      " 0   gender               1078 non-null   object        \n",
      " 1   DateOfBirth          1078 non-null   datetime64[ns]\n",
      " 2   State                1078 non-null   object        \n",
      " 3   Contact              1078 non-null   object        \n",
      " 4   Segment              1078 non-null   object        \n",
      " 5   claim_id             1078 non-null   int64         \n",
      " 6   incident_cause       1078 non-null   object        \n",
      " 7   claim_date           1078 non-null   datetime64[ns]\n",
      " 8   claim_area           1078 non-null   object        \n",
      " 9   police_report        1078 non-null   object        \n",
      " 10  claim_type           1078 non-null   object        \n",
      " 11  claim_amount         1078 non-null   float64       \n",
      " 12  total_policy_claims  1078 non-null   float64       \n",
      " 13  fraudulent           1078 non-null   object        \n",
      " 14  _merge               1078 non-null   category      \n",
      " 15  unreported_claims    1078 non-null   int32         \n",
      " 16  age                  1078 non-null   int64         \n",
      " 17  AgeGroup             1078 non-null   object        \n",
      " 18  fraud                1078 non-null   int32         \n",
      " 19  cla_month            1078 non-null   int64         \n",
      "dtypes: category(1), datetime64[ns](2), float64(2), int32(2), int64(3), object(10)\n",
      "memory usage: 152.9+ KB\n"
     ]
    }
   ],
   "source": [
    "data.info()"
   ]
  },
  {
   "cell_type": "code",
   "execution_count": 78,
   "id": "94d8dc07",
   "metadata": {},
   "outputs": [
    {
     "data": {
      "text/plain": [
       "3"
      ]
     },
     "execution_count": 78,
     "metadata": {},
     "output_type": "execute_result"
    }
   ],
   "source": [
    "data.AgeGroup.nunique()"
   ]
  },
  {
   "cell_type": "code",
   "execution_count": 79,
   "id": "8945369a",
   "metadata": {},
   "outputs": [
    {
     "data": {
      "text/plain": [
       "Adult     795\n",
       "Youth     208\n",
       "Senior     75\n",
       "Name: AgeGroup, dtype: int64"
      ]
     },
     "execution_count": 79,
     "metadata": {},
     "output_type": "execute_result"
    }
   ],
   "source": [
    "data.AgeGroup.value_counts()"
   ]
  },
  {
   "cell_type": "code",
   "execution_count": 80,
   "id": "5ddf5f6d",
   "metadata": {},
   "outputs": [],
   "source": [
    "Claims = 'claim_amount'"
   ]
  },
  {
   "cell_type": "code",
   "execution_count": 81,
   "id": "c6b29e3c",
   "metadata": {},
   "outputs": [
    {
     "name": "stdout",
     "output_type": "stream",
     "text": [
      "Count s1: 12148.916981132075 | Count s2: 11100.264423076924 | Count s3: nan | Count s3: nan\n"
     ]
    }
   ],
   "source": [
    "s1 = data.loc[ data.AgeGroup == 'Adult', Claims ]\n",
    "s2 = data.loc[ data.AgeGroup == 'Youth', Claims ]\n",
    "s3 = data.loc[ data.AgeGroup == 'NaN', Claims ]\n",
    "s4 = data.loc[ data.AgeGroup== 'Children', Claims ]\n",
    "\n",
    "print( 'Count s1:', s1.mean(), '| Count s2:', s2.mean(), '| Count s3:', s3.mean(), \n",
    "       '| Count s3:', s4.mean() )"
   ]
  },
  {
   "cell_type": "code",
   "execution_count": 82,
   "id": "93d1ad3a",
   "metadata": {},
   "outputs": [
    {
     "name": "stderr",
     "output_type": "stream",
     "text": [
      "C:\\Users\\asus\\anaconda3\\lib\\site-packages\\scipy\\stats\\stats.py:3621: F_onewayBadInputSizesWarning: at least one input has length 0\n",
      "  warnings.warn(F_onewayBadInputSizesWarning('at least one input '\n"
     ]
    },
    {
     "data": {
      "text/plain": [
       "F_onewayResult(statistic=nan, pvalue=nan)"
      ]
     },
     "execution_count": 82,
     "metadata": {},
     "output_type": "execute_result"
    }
   ],
   "source": [
    "stats.f_oneway( s1, s2, s3, s4 )"
   ]
  },
  {
   "cell_type": "markdown",
   "id": "92986948",
   "metadata": {},
   "source": [
    "#### 20. Is there any relationship between total number of policy claims and the claimed amount?"
   ]
  },
  {
   "cell_type": "code",
   "execution_count": 83,
   "id": "d8ea55b8",
   "metadata": {},
   "outputs": [
    {
     "data": {
      "text/plain": [
       "(-0.01311450372929323, 0.6671183432307141)"
      ]
     },
     "execution_count": 83,
     "metadata": {},
     "output_type": "execute_result"
    }
   ],
   "source": [
    "stats.pearsonr(data.total_policy_claims,data.claim_amount)"
   ]
  },
  {
   "cell_type": "markdown",
   "id": "f5d49b61",
   "metadata": {},
   "source": [
    "p-value= 0.5970054601981295 which is greater than 0.05, so, we cannot reject null hypothesis. With 95 percent confidence interval, we cannot say there is relationship between total number of policy claims and the claimed amount with the help of this data."
   ]
  },
  {
   "cell_type": "code",
   "execution_count": null,
   "id": "eb3542ca",
   "metadata": {},
   "outputs": [],
   "source": []
  },
  {
   "cell_type": "code",
   "execution_count": null,
   "id": "8552d3e2",
   "metadata": {},
   "outputs": [],
   "source": []
  }
 ],
 "metadata": {
  "kernelspec": {
   "display_name": "Python 3 (ipykernel)",
   "language": "python",
   "name": "python3"
  },
  "language_info": {
   "codemirror_mode": {
    "name": "ipython",
    "version": 3
   },
   "file_extension": ".py",
   "mimetype": "text/x-python",
   "name": "python",
   "nbconvert_exporter": "python",
   "pygments_lexer": "ipython3",
   "version": "3.9.12"
  }
 },
 "nbformat": 4,
 "nbformat_minor": 5
}
